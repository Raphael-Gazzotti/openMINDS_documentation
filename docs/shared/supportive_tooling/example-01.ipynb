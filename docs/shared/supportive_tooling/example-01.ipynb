{
 "cells": [
  {
   "cell_type": "markdown",
   "id": "d840f945-076d-49ca-8604-98472b59ab2a",
   "metadata": {
    "panel-layout": {
     "height": 51.1406,
     "visible": true,
     "width": 100
    }
   },
   "source": [
    "# Example-01"
   ]
  },
  {
   "cell_type": "markdown",
   "id": "c835346e-fec3-4e08-8470-bc7923478a87",
   "metadata": {},
   "source": [
    "Let use pick up again the example we used in getting started and assume we locally stored information about the Heart of Gold Spacecraft Crew as Comma Separated Values:"
   ]
  },
  {
   "cell_type": "code",
   "execution_count": null,
   "id": "d12c7673-0d2c-415b-ad96-f1c6be7a9fd5",
   "metadata": {},
   "outputs": [],
   "source": [
    "# Install required libraries\n",
    "!pip install uv\n",
    "!uv pip install openminds\n",
    "!uv pip install pandas"
   ]
  },
  {
   "cell_type": "code",
   "execution_count": null,
   "id": "f0b8f551-57f3-43c0-96fc-9cc3e84dd196",
   "metadata": {},
   "outputs": [],
   "source": [
    "import pandas as pd\n",
    "persons_path = '../../_static/test-data/persons.csv'\n",
    "df = pd.read_csv(persons_path, sep=',')\n",
    "df.head(4)"
   ]
  },
  {
   "cell_type": "markdown",
   "id": "e38dc0df-d35a-4842-b28a-9b227a468cd6",
   "metadata": {},
   "source": [
    "We will now guide you through the process of how to represent this data table as linked data in openMINDS using the openMINDS Python library.\n",
    "\n",
    "Let us start by importing the necessary packages, initiating an empty openMINDS linked data collection, and loading the rows of the data table as a list of Python dictionaries whose keys are given by the table header:"
   ]
  },
  {
   "cell_type": "code",
   "execution_count": null,
   "id": "c9401979-501d-454a-a610-78f61b5d40d8",
   "metadata": {},
   "outputs": [],
   "source": [
    "import csv\n",
    "\n",
    "# read csv file to a list of dictionaries\n",
    "with open(persons_path, 'r') as f:\n",
    "   csv_reader = csv.DictReader(f)\n",
    "   data = [row for row in csv_reader]\n",
    "f.close()"
   ]
  },
  {
   "cell_type": "markdown",
   "id": "0f01bf6e-f0aa-4bdb-be89-54dcfa2f2116",
   "metadata": {},
   "source": [
    "\"data\" contains now a list of dictionaries that each contain the values of each cell in one row with the column header of each cell as keys. Next let us create from those data the representative linked data instances. \n",
    "\n",
    "Let us assume that \"memberOf\" provides the full name of a consortium each person is affiliated to.\n",
    "Since members might be affiliated to the same consortium we assume further that the same full name means the same consortium. \n",
    "We can also assume that the \"email\" is unique for each person.\n",
    "\n",
    "With these assumptions we will create :\n",
    "\n",
    "* a unique set of \"Consortium\" instances based on the full name given under \"memberOf\" in all dictionaries in data\n",
    "* a \"ContactInformation\" instance based on \"email\" for each dictionary in data\n",
    "* a \"Person\" instance for each dictionary in data with:\n",
    "\n",
    "  * the \"givenName\", \"familyName\", and \"alternateName\" (if available)\n",
    "  * a link to the respective \"ContactInformation\" instance\n",
    "  * a person-specific embedded \"Affiliation\" instance that links to the respective \"Consortium\" instance"
   ]
  },
  {
   "cell_type": "code",
   "execution_count": null,
   "id": "2583247a-c2b3-400e-957c-bb0567585b82",
   "metadata": {},
   "outputs": [],
   "source": [
    "import openminds.latest.core as omcore\n",
    "\n",
    "# extract data to create dictionary with unique \"Consortium\" instances\n",
    "consortia = {}\n",
    "for d in data:\n",
    "   if d['memberOf'] not in consortia:\n",
    "       consortia[d['memberOf']] = omcore.Consortium(\n",
    "           id = f\"_:{d['memberOf'].replace(' ', '-').lower()}\",\n",
    "           full_name = d['memberOf']\n",
    "       )\n",
    "\n",
    "# extract data to create dictionary with \"ContactInformation\" instances\n",
    "contacts = {}\n",
    "for d in data:\n",
    "   if d['email'] not in contacts and d['email'] != '':\n",
    "       contacts[d['email']] = omcore.ContactInformation(\n",
    "           id = f\"_:{d['email']}\",\n",
    "           email = d['email']\n",
    "       )\n",
    "\n",
    "# extract data to create dictionary with \"Person\" instances where each \"Person\" instance\n",
    "# will link to their respective \"ContactInformation\" instance\n",
    "# embed an \"Affiliation\" instance that links to the respective \"Consortium\" instance\n",
    "persons = []\n",
    "for d in data:\n",
    "   full_name = \" \".join([d['givenName'], d['familyName']])\n",
    "   persons.append(omcore.Person(\n",
    "       id = f\"_:{full_name.replace(' ', '-').lower()}\",\n",
    "       given_name = d['givenName'],\n",
    "       family_name = d['familyName'],\n",
    "       alternate_names = d['alternateName'] if d['alternateName'] != '' else None,\n",
    "       contact_information = contacts[d['email']],\n",
    "       affiliations = omcore.Affiliation(member_of=consortia[d['memberOf']])\n",
    "   ))"
   ]
  },
  {
   "cell_type": "markdown",
   "id": "ca5978f7-c9be-474a-b214-4e34163dd796",
   "metadata": {},
   "source": [
    "As final step, we will add our linked data instances to the collection we initiated in the beginning, validate this collection against the openMINDS metadata models, and save the collection if the validation did not reveal any failures:"
   ]
  },
  {
   "cell_type": "code",
   "execution_count": null,
   "id": "f4ced2a6-ec31-440d-ac97-3371d6caf045",
   "metadata": {},
   "outputs": [],
   "source": [
    "# adding instances to collection\n",
    "# we only need to add the \"Person\" instances, because ...\n",
    "# linked instances are added to the collection automatically\n",
    "from openminds import Collection\n",
    "\n",
    "# Create an empty metadata collection\n",
    "collection = Collection()\n",
    "\n",
    "for p in persons: \n",
    "   collection.add(p) \n",
    "\n",
    "failures = collection.validate()\n",
    "\n",
    "if not failures:\n",
    "   collection.save('my_collection.jsonld')"
   ]
  },
  {
   "cell_type": "markdown",
   "id": "3161415e-b590-4b64-9059-20cb87decf1b",
   "metadata": {},
   "source": [
    "Next, we display the contents of our collection to verify its values."
   ]
  },
  {
   "cell_type": "code",
   "execution_count": null,
   "id": "1157745b-8ff9-460e-8384-1876a71a9e16",
   "metadata": {},
   "outputs": [],
   "source": [
    "import json\n",
    "\n",
    "# Open and read the JSON file\n",
    "with open('my_collection.jsonld', 'r') as file:\n",
    "    my_collection = json.load(file)\n",
    "\n",
    "# Print the data\n",
    "print(my_collection)"
   ]
  }
 ],
 "metadata": {
  "kernelspec": {
   "display_name": "Python 3 (ipykernel)",
   "language": "python",
   "name": "python3"
  },
  "language_info": {
   "codemirror_mode": {
    "name": "ipython",
    "version": 3
   },
   "file_extension": ".py",
   "mimetype": "text/x-python",
   "name": "python",
   "nbconvert_exporter": "python",
   "pygments_lexer": "ipython3",
   "version": "3.12.4"
  },
  "panel-cell-order": [
   "d840f945-076d-49ca-8604-98472b59ab2a",
   "dc188b2e-d98a-488d-8a3e-ac1c4801a135"
  ]
 },
 "nbformat": 4,
 "nbformat_minor": 5
}
